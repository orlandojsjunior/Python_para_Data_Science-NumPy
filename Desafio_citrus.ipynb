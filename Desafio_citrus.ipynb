{
  "cells": [
    {
      "cell_type": "markdown",
      "metadata": {
        "colab_type": "text",
        "id": "view-in-github"
      },
      "source": [
        "<a href=\"https://colab.research.google.com/github/orlandojsjunior/Python_para_Data_Science-NumPy/blob/main/Desafio_citrus.ipynb\" target=\"_parent\"><img src=\"https://colab.research.google.com/assets/colab-badge.svg\" alt=\"Open In Colab\"/></a>"
      ]
    },
    {
      "cell_type": "markdown",
      "metadata": {
        "id": "WOONkbTlOObi"
      },
      "source": [
        "# Aula 1 - Atividade 9 Faça como eu fiz\n",
        "\n",
        "Chegou a hora de você testar os conhecimentos desenvolvidos durante a aula. Para isso, vamos utilizar outro dataset em um desafio que será desenvolvido no decorrer do curso. Esse dataset é uma versão modificada do [arquivo Oranges vs. Grapefruit](https://www.kaggle.com/datasets/joshmcadams/oranges-vs-grapefruit) presente no site do Kaggle. Portanto, utilizaremos o [arquivo raw disponível no GitHub](https://raw.githubusercontent.com/orlandojsjunior/Python_para_Data_Science-NumPy_analise_numerica_eficiente_com_Python/main/numpy-dados/citrus.csv).\n",
        "\n",
        "Nessa etapa, você deve efetuar a leitura dos dados. Para isso, importe a NumPy e use a função loadtxt. Use o link da url e o parâmetro usecols para pular a primeira coluna. É possível usar np.arange para criar a sequência de números que representam as colunas. Por fim, também é necessário incluir o parâmetro skiprows=1 para que a primeira linha de texto seja desconsiderada na leitura do arquivo."
      ]
    },
    {
      "cell_type": "code",
      "execution_count": 10,
      "metadata": {
        "id": "q6m-u8k2OObl"
      },
      "outputs": [],
      "source": [
        "import numpy as np\n",
        "url = 'https://raw.githubusercontent.com/orlandojsjunior/Python_para_Data_Science-NumPy_analise_numerica_eficiente_com_Python/main/numpy-dados/citrus.csv'\n",
        "dado = np.loadtxt(url, delimiter=',',usecols=np.arange(1,6,1),skiprows=1)"
      ]
    },
    {
      "cell_type": "code",
      "execution_count": 11,
      "metadata": {
        "colab": {
          "base_uri": "https://localhost:8080/"
        },
        "id": "BbLI8NRDOObm",
        "outputId": "1ee62571-cca0-4577-cf62-e2585c2ba1cd"
      },
      "outputs": [
        {
          "data": {
            "text/plain": [
              "array([[  2.96,  86.76, 172.  ,  85.  ,   2.  ],\n",
              "       [  3.91,  88.05, 166.  ,  78.  ,   3.  ],\n",
              "       [  4.42,  95.17, 156.  ,  81.  ,   2.  ],\n",
              "       ...,\n",
              "       [ 15.59, 256.5 , 168.  ,  82.  ,  20.  ],\n",
              "       [ 15.92, 260.14, 142.  ,  72.  ,  11.  ],\n",
              "       [ 16.45, 261.51, 152.  ,  74.  ,   2.  ]])"
            ]
          },
          "execution_count": 11,
          "metadata": {},
          "output_type": "execute_result"
        }
      ],
      "source": [
        "dado"
      ]
    },
    {
      "cell_type": "markdown",
      "metadata": {
        "id": "gkm3XnrzOObn"
      },
      "source": [
        "# Aula 2 - Atividade 10 Faça como eu fiz\n",
        "Chegou a hora de você testar os conhecimentos desenvolvidos durante a aula. Continuando com o projeto das laranjas/toranjas agora você deve selecionar parte dos dados. As colunas que iremos avaliar são as de diâmetro e peso. Crie arrays específicos para guardar o diâmetro e peso da laranja e toranja. O diâmetro está na coluna zero e o peso na coluna 1. Os dados referentes a laranja vão até a linha 4999 e os referentes à toranja iniciam na linha 5000 do arquivo.\n",
        "\n",
        "Após fazer a seleção de dados, importe a biblioteca matplotlib e crie um gráfico para a laranja e para a toranja do peso pelo diâmetro."
      ]
    },
    {
      "cell_type": "code",
      "execution_count": 12,
      "metadata": {
        "id": "q79E4iMQOObn"
      },
      "outputs": [],
      "source": [
        "diametro_laranja = dado[:5000,0]\n",
        "diametro_toranja = dado[5000:,0]\n",
        "peso_laranja = dado[:5000,1]\n",
        "peso_toranja = dado[5000:,1]"
      ]
    },
    {
      "cell_type": "code",
      "execution_count": 13,
      "metadata": {
        "colab": {
          "base_uri": "https://localhost:8080/",
          "height": 447
        },
        "id": "_uSpwm-rOObo",
        "outputId": "db71931c-1d8a-4eab-a49c-75fe7de8bfa9"
      },
      "outputs": [
        {
          "data": {
            "text/plain": [
              "<matplotlib.legend.Legend at 0x18844664740>"
            ]
          },
          "execution_count": 13,
          "metadata": {},
          "output_type": "execute_result"
        },
        {
          "data": {
            "image/png": "[encoded data removed]",
            "text/plain": [
              "<Figure size 640x480 with 1 Axes>"
            ]
          },
          "metadata": {},
          "output_type": "display_data"
        }
      ],
      "source": [
        " import matplotlib.pyplot as plt\n",
        "\n",
        "plt.plot(diametro_laranja, peso_laranja)\n",
        "plt.plot(diametro_toranja, peso_toranja)\n",
        "plt.legend(['laranja', 'toranja'])"
      ]
    },
    {
      "cell_type": "markdown",
      "metadata": {},
      "source": [
        "# Aula 3 - Atividade 08 - Faça como eu fiz"
      ]
    },
    {
      "cell_type": "markdown",
      "metadata": {},
      "source": [
        "Chegou a hora de você testar os conhecimentos desenvolvidos durante a aula. Continuando com o projeto das laranjas/toranjas agora você deve calcular o coeficiente ângular e o linear para a reta da laranja e para a reta da toranja. Use a fórmula de mínimos quadrados para encontrar cada um."
      ]
    },
    {
      "cell_type": "code",
      "execution_count": 14,
      "metadata": {},
      "outputs": [],
      "source": [
        "# Coeficientes da laranja:\n",
        "\n",
        "Y = peso_laranja\n",
        "X = diametro_laranja\n",
        "n = np.size(X)\n",
        "\n",
        "a = (n*np.sum(X*Y) - np.sum(X)*np.sum(Y))/(n*np.sum(X**2)-np.sum(X)**2)\n",
        "b = np.mean(Y) - a*np.mean(X)"
      ]
    },
    {
      "cell_type": "code",
      "execution_count": 15,
      "metadata": {},
      "outputs": [],
      "source": [
        "# Coeficientes da toranja:\n",
        "\n",
        "Y = peso_toranja\n",
        "X = diametro_toranja\n",
        "n = np.size(X)\n",
        "\n",
        "a = (n*np.sum(X*Y) - np.sum(X)*np.sum(Y))/(n*np.sum(X**2)-np.sum(X)**2)\n",
        "b = np.mean(Y) - a*np.mean(X)"
      ]
    }
  ],
  "metadata": {
    "colab": {
      "include_colab_link": true,
      "provenance": []
    },
    "kernelspec": {
      "display_name": "Python 3",
      "language": "python",
      "name": "python3"
    },
    "language_info": {
      "codemirror_mode": {
        "name": "ipython",
        "version": 3
      },
      "file_extension": ".py",
      "mimetype": "text/x-python",
      "name": "python",
      "nbconvert_exporter": "python",
      "pygments_lexer": "ipython3",
      "version": "3.12.4"
    }
  },
  "nbformat": 4,
  "nbformat_minor": 0
}
